{
 "cells": [
  {
   "cell_type": "markdown",
   "id": "7bb3647a",
   "metadata": {},
   "source": [
    "# MALIGNANT COMMENTS PRIDICTION"
   ]
  },
  {
   "cell_type": "code",
   "execution_count": 1,
   "id": "9dbd4d05",
   "metadata": {},
   "outputs": [],
   "source": [
    "#LOADING THE IMPORTANT MODULES\n",
    "\n",
    "import numpy as np\n",
    "import pandas as pd\n",
    "import matplotlib.pyplot as plt\n",
    "import seaborn as sns\n",
    "import warnings\n",
    "warnings.filterwarnings(\"ignore\")"
   ]
  },
  {
   "cell_type": "code",
   "execution_count": 2,
   "id": "351a4b04",
   "metadata": {},
   "outputs": [],
   "source": [
    "#LOADING THE TRAIN DATASET\n",
    "\n",
    "train_df=pd.read_csv(\"malignant.tsv\",sep=\"\\t\")\n",
    "\n",
    "test_df=pd.read_csv(\"malignant.test.csv\", sep=\"\\t\")"
   ]
  },
  {
   "cell_type": "code",
   "execution_count": 3,
   "id": "0b90aa6d",
   "metadata": {},
   "outputs": [
    {
     "data": {
      "text/html": [
       "<div>\n",
       "<style scoped>\n",
       "    .dataframe tbody tr th:only-of-type {\n",
       "        vertical-align: middle;\n",
       "    }\n",
       "\n",
       "    .dataframe tbody tr th {\n",
       "        vertical-align: top;\n",
       "    }\n",
       "\n",
       "    .dataframe thead th {\n",
       "        text-align: right;\n",
       "    }\n",
       "</style>\n",
       "<table border=\"1\" class=\"dataframe\">\n",
       "  <thead>\n",
       "    <tr style=\"text-align: right;\">\n",
       "      <th></th>\n",
       "      <th>id</th>\n",
       "      <th>comment_text</th>\n",
       "      <th>malignant</th>\n",
       "      <th>highly_malignant</th>\n",
       "      <th>rude</th>\n",
       "      <th>threat</th>\n",
       "      <th>abuse</th>\n",
       "      <th>loathe</th>\n",
       "    </tr>\n",
       "  </thead>\n",
       "  <tbody>\n",
       "    <tr>\n",
       "      <th>0</th>\n",
       "      <td>0000997932d777bf</td>\n",
       "      <td>Explanation\\nWhy the edits made under my usern...</td>\n",
       "      <td>0.0</td>\n",
       "      <td>0.0</td>\n",
       "      <td>0.0</td>\n",
       "      <td>0.0</td>\n",
       "      <td>0.0</td>\n",
       "      <td>0.0</td>\n",
       "    </tr>\n",
       "    <tr>\n",
       "      <th>1</th>\n",
       "      <td>000103f0d9cfb60f</td>\n",
       "      <td>D'aww! He matches this background colour I'm s...</td>\n",
       "      <td>0.0</td>\n",
       "      <td>0.0</td>\n",
       "      <td>0.0</td>\n",
       "      <td>0.0</td>\n",
       "      <td>0.0</td>\n",
       "      <td>0.0</td>\n",
       "    </tr>\n",
       "    <tr>\n",
       "      <th>2</th>\n",
       "      <td>000113f07ec002fd</td>\n",
       "      <td>Hey man, I'm really not trying to edit war. It...</td>\n",
       "      <td>0.0</td>\n",
       "      <td>0.0</td>\n",
       "      <td>0.0</td>\n",
       "      <td>0.0</td>\n",
       "      <td>0.0</td>\n",
       "      <td>0.0</td>\n",
       "    </tr>\n",
       "    <tr>\n",
       "      <th>3</th>\n",
       "      <td>0001b41b1c6bb37e</td>\n",
       "      <td>\"\\nMore\\nI can't make any real suggestions on ...</td>\n",
       "      <td>0.0</td>\n",
       "      <td>0.0</td>\n",
       "      <td>0.0</td>\n",
       "      <td>0.0</td>\n",
       "      <td>0.0</td>\n",
       "      <td>0.0</td>\n",
       "    </tr>\n",
       "    <tr>\n",
       "      <th>4</th>\n",
       "      <td>0001d958c54c6e35</td>\n",
       "      <td>You, sir, are my hero. Any chance you remember...</td>\n",
       "      <td>0.0</td>\n",
       "      <td>0.0</td>\n",
       "      <td>0.0</td>\n",
       "      <td>0.0</td>\n",
       "      <td>0.0</td>\n",
       "      <td>0.0</td>\n",
       "    </tr>\n",
       "  </tbody>\n",
       "</table>\n",
       "</div>"
      ],
      "text/plain": [
       "                 id                                       comment_text  \\\n",
       "0  0000997932d777bf  Explanation\\nWhy the edits made under my usern...   \n",
       "1  000103f0d9cfb60f  D'aww! He matches this background colour I'm s...   \n",
       "2  000113f07ec002fd  Hey man, I'm really not trying to edit war. It...   \n",
       "3  0001b41b1c6bb37e  \"\\nMore\\nI can't make any real suggestions on ...   \n",
       "4  0001d958c54c6e35  You, sir, are my hero. Any chance you remember...   \n",
       "\n",
       "   malignant  highly_malignant  rude  threat  abuse  loathe  \n",
       "0        0.0               0.0   0.0     0.0    0.0     0.0  \n",
       "1        0.0               0.0   0.0     0.0    0.0     0.0  \n",
       "2        0.0               0.0   0.0     0.0    0.0     0.0  \n",
       "3        0.0               0.0   0.0     0.0    0.0     0.0  \n",
       "4        0.0               0.0   0.0     0.0    0.0     0.0  "
      ]
     },
     "execution_count": 3,
     "metadata": {},
     "output_type": "execute_result"
    }
   ],
   "source": [
    "train_df.head()"
   ]
  },
  {
   "cell_type": "markdown",
   "id": "a236e94c",
   "metadata": {},
   "source": [
    "First 5 rows of train DataFrame."
   ]
  },
  {
   "cell_type": "code",
   "execution_count": 4,
   "id": "fb26f958",
   "metadata": {},
   "outputs": [
    {
     "data": {
      "text/html": [
       "<div>\n",
       "<style scoped>\n",
       "    .dataframe tbody tr th:only-of-type {\n",
       "        vertical-align: middle;\n",
       "    }\n",
       "\n",
       "    .dataframe tbody tr th {\n",
       "        vertical-align: top;\n",
       "    }\n",
       "\n",
       "    .dataframe thead th {\n",
       "        text-align: right;\n",
       "    }\n",
       "</style>\n",
       "<table border=\"1\" class=\"dataframe\">\n",
       "  <thead>\n",
       "    <tr style=\"text-align: right;\">\n",
       "      <th></th>\n",
       "      <th>id</th>\n",
       "      <th>comment_text</th>\n",
       "    </tr>\n",
       "  </thead>\n",
       "  <tbody>\n",
       "    <tr>\n",
       "      <th>0</th>\n",
       "      <td>00001cee341fdb12</td>\n",
       "      <td>Yo bitch Ja Rule is more succesful then you'll...</td>\n",
       "    </tr>\n",
       "    <tr>\n",
       "      <th>1</th>\n",
       "      <td>0000247867823ef7</td>\n",
       "      <td>== From RfC == \\n\\n The title is fine as it is...</td>\n",
       "    </tr>\n",
       "    <tr>\n",
       "      <th>2</th>\n",
       "      <td>00013b17ad220c46</td>\n",
       "      <td>\" \\n\\n == Sources == \\n\\n * Zawe Ashton on Lap...</td>\n",
       "    </tr>\n",
       "    <tr>\n",
       "      <th>3</th>\n",
       "      <td>00017563c3f7919a</td>\n",
       "      <td>:If you have a look back at the source, the in...</td>\n",
       "    </tr>\n",
       "    <tr>\n",
       "      <th>4</th>\n",
       "      <td>00017695ad8997eb</td>\n",
       "      <td>I don't anonymously edit articles at all.</td>\n",
       "    </tr>\n",
       "  </tbody>\n",
       "</table>\n",
       "</div>"
      ],
      "text/plain": [
       "                 id                                       comment_text\n",
       "0  00001cee341fdb12  Yo bitch Ja Rule is more succesful then you'll...\n",
       "1  0000247867823ef7  == From RfC == \\n\\n The title is fine as it is...\n",
       "2  00013b17ad220c46  \" \\n\\n == Sources == \\n\\n * Zawe Ashton on Lap...\n",
       "3  00017563c3f7919a  :If you have a look back at the source, the in...\n",
       "4  00017695ad8997eb          I don't anonymously edit articles at all."
      ]
     },
     "execution_count": 4,
     "metadata": {},
     "output_type": "execute_result"
    }
   ],
   "source": [
    "test_df.head()"
   ]
  },
  {
   "cell_type": "markdown",
   "id": "cfc616b1",
   "metadata": {},
   "source": [
    "First 5 rows of test DataFrame."
   ]
  },
  {
   "cell_type": "code",
   "execution_count": 5,
   "id": "fb21539e",
   "metadata": {},
   "outputs": [
    {
     "data": {
      "text/plain": [
       "(159621, 8)"
      ]
     },
     "execution_count": 5,
     "metadata": {},
     "output_type": "execute_result"
    }
   ],
   "source": [
    "train_df.shape"
   ]
  },
  {
   "cell_type": "markdown",
   "id": "32f5452d",
   "metadata": {},
   "source": [
    "There are 159621 rows and 8 columns in train DataFrame."
   ]
  },
  {
   "cell_type": "code",
   "execution_count": 6,
   "id": "a5f07317",
   "metadata": {},
   "outputs": [
    {
     "data": {
      "text/plain": [
       "(153186, 2)"
      ]
     },
     "execution_count": 6,
     "metadata": {},
     "output_type": "execute_result"
    }
   ],
   "source": [
    "test_df.shape"
   ]
  },
  {
   "cell_type": "markdown",
   "id": "866d2975",
   "metadata": {},
   "source": [
    "There are 153186 rows and 2 columns in test DataFrame."
   ]
  },
  {
   "cell_type": "code",
   "execution_count": 7,
   "id": "a80c3b3f",
   "metadata": {},
   "outputs": [
    {
     "name": "stdout",
     "output_type": "stream",
     "text": [
      "<class 'pandas.core.frame.DataFrame'>\n",
      "RangeIndex: 159621 entries, 0 to 159620\n",
      "Data columns (total 8 columns):\n",
      " #   Column            Non-Null Count   Dtype  \n",
      "---  ------            --------------   -----  \n",
      " 0   id                159621 non-null  object \n",
      " 1   comment_text      159547 non-null  object \n",
      " 2   malignant         159528 non-null  float64\n",
      " 3   highly_malignant  159528 non-null  float64\n",
      " 4   rude              159528 non-null  float64\n",
      " 5   threat            159528 non-null  float64\n",
      " 6   abuse             159528 non-null  float64\n",
      " 7   loathe            159509 non-null  float64\n",
      "dtypes: float64(6), object(2)\n",
      "memory usage: 9.7+ MB\n"
     ]
    }
   ],
   "source": [
    "train_df.info()"
   ]
  },
  {
   "cell_type": "markdown",
   "id": "e32b37d3",
   "metadata": {},
   "source": [
    "There are some null values in Train DataFrame."
   ]
  },
  {
   "cell_type": "code",
   "execution_count": 8,
   "id": "4f701c87",
   "metadata": {},
   "outputs": [
    {
     "name": "stdout",
     "output_type": "stream",
     "text": [
      "<class 'pandas.core.frame.DataFrame'>\n",
      "RangeIndex: 153186 entries, 0 to 153185\n",
      "Data columns (total 2 columns):\n",
      " #   Column        Non-Null Count   Dtype \n",
      "---  ------        --------------   ----- \n",
      " 0   id            153186 non-null  object\n",
      " 1   comment_text  153157 non-null  object\n",
      "dtypes: object(2)\n",
      "memory usage: 2.3+ MB\n"
     ]
    }
   ],
   "source": [
    "test_df.info()"
   ]
  },
  {
   "cell_type": "markdown",
   "id": "6f83d5d4",
   "metadata": {},
   "source": [
    "There are some null values in test DataFrame."
   ]
  },
  {
   "cell_type": "code",
   "execution_count": 9,
   "id": "315d6f4e",
   "metadata": {},
   "outputs": [
    {
     "data": {
      "text/plain": [
       "id                   object\n",
       "comment_text         object\n",
       "malignant           float64\n",
       "highly_malignant    float64\n",
       "rude                float64\n",
       "threat              float64\n",
       "abuse               float64\n",
       "loathe              float64\n",
       "dtype: object"
      ]
     },
     "execution_count": 9,
     "metadata": {},
     "output_type": "execute_result"
    }
   ],
   "source": [
    "train_df.dtypes"
   ]
  },
  {
   "cell_type": "markdown",
   "id": "6a3c0a1c",
   "metadata": {},
   "source": [
    "Object and flaot type of data in train dataframe."
   ]
  },
  {
   "cell_type": "code",
   "execution_count": 10,
   "id": "605e93fd",
   "metadata": {},
   "outputs": [
    {
     "data": {
      "text/plain": [
       "id              object\n",
       "comment_text    object\n",
       "dtype: object"
      ]
     },
     "execution_count": 10,
     "metadata": {},
     "output_type": "execute_result"
    }
   ],
   "source": [
    "test_df.dtypes"
   ]
  },
  {
   "cell_type": "markdown",
   "id": "5ebe05ab",
   "metadata": {},
   "source": [
    "Only object type of data in test dataframe."
   ]
  },
  {
   "cell_type": "code",
   "execution_count": 11,
   "id": "458301b4",
   "metadata": {},
   "outputs": [
    {
     "data": {
      "text/plain": [
       "Index(['id', 'comment_text', 'malignant', 'highly_malignant', 'rude', 'threat',\n",
       "       'abuse', 'loathe'],\n",
       "      dtype='object')"
      ]
     },
     "execution_count": 11,
     "metadata": {},
     "output_type": "execute_result"
    }
   ],
   "source": [
    "train_df.keys()"
   ]
  },
  {
   "cell_type": "markdown",
   "id": "98004328",
   "metadata": {},
   "source": [
    "All columns of train DataFrame."
   ]
  },
  {
   "cell_type": "code",
   "execution_count": 12,
   "id": "0b9970ea",
   "metadata": {},
   "outputs": [
    {
     "data": {
      "text/plain": [
       "Index(['id', 'comment_text'], dtype='object')"
      ]
     },
     "execution_count": 12,
     "metadata": {},
     "output_type": "execute_result"
    }
   ],
   "source": [
    "test_df.keys()"
   ]
  },
  {
   "cell_type": "markdown",
   "id": "6327fa86",
   "metadata": {},
   "source": [
    "All columns of test DataFrame."
   ]
  },
  {
   "cell_type": "markdown",
   "id": "b4937846",
   "metadata": {},
   "source": [
    "# CHECKING NULL VALUES"
   ]
  },
  {
   "cell_type": "code",
   "execution_count": 13,
   "id": "c97eea29",
   "metadata": {},
   "outputs": [
    {
     "data": {
      "text/plain": [
       "id                    0\n",
       "comment_text         74\n",
       "malignant            93\n",
       "highly_malignant     93\n",
       "rude                 93\n",
       "threat               93\n",
       "abuse                93\n",
       "loathe              112\n",
       "dtype: int64"
      ]
     },
     "execution_count": 13,
     "metadata": {},
     "output_type": "execute_result"
    }
   ],
   "source": [
    "train_df.isnull().sum()"
   ]
  },
  {
   "cell_type": "markdown",
   "id": "f7a1e0c4",
   "metadata": {},
   "source": [
    "There are 74 null values in comment_text, 93 null values in malignant, 93 null values in highly_malignant, 93 null values in rude, 93 null values in threat, 93 null values in abuse and 112 null values in loathe in train DataFrame. "
   ]
  },
  {
   "cell_type": "code",
   "execution_count": 14,
   "id": "52309594",
   "metadata": {},
   "outputs": [
    {
     "data": {
      "text/plain": [
       "id               0\n",
       "comment_text    29\n",
       "dtype: int64"
      ]
     },
     "execution_count": 14,
     "metadata": {},
     "output_type": "execute_result"
    }
   ],
   "source": [
    "test_df.isnull().sum()"
   ]
  },
  {
   "cell_type": "markdown",
   "id": "3f8b6ce5",
   "metadata": {},
   "source": [
    "There are 29 null values in comment_text test DataFrame."
   ]
  },
  {
   "cell_type": "markdown",
   "id": "2721a123",
   "metadata": {},
   "source": [
    "# FILLING MISSING VALUES"
   ]
  },
  {
   "cell_type": "markdown",
   "id": "06373e58",
   "metadata": {},
   "source": [
    "TRAIN DATAFRAME"
   ]
  },
  {
   "cell_type": "code",
   "execution_count": 15,
   "id": "4b695527",
   "metadata": {},
   "outputs": [
    {
     "data": {
      "text/plain": [
       "74"
      ]
     },
     "execution_count": 15,
     "metadata": {},
     "output_type": "execute_result"
    }
   ],
   "source": [
    "train_df[\"comment_text\"].isnull().sum()"
   ]
  },
  {
   "cell_type": "code",
   "execution_count": 16,
   "id": "470cf335",
   "metadata": {},
   "outputs": [
    {
     "data": {
      "text/plain": [
       "0    0\n",
       "Name: comment_text, dtype: object"
      ]
     },
     "execution_count": 16,
     "metadata": {},
     "output_type": "execute_result"
    }
   ],
   "source": [
    "train_df[\"comment_text\"].mode()"
   ]
  },
  {
   "cell_type": "code",
   "execution_count": 17,
   "id": "3a908408",
   "metadata": {},
   "outputs": [],
   "source": [
    "train_df[\"comment_text\"].fillna(train_df[\"comment_text\"].mode()[0],inplace=True)"
   ]
  },
  {
   "cell_type": "code",
   "execution_count": 18,
   "id": "39ee8488",
   "metadata": {},
   "outputs": [
    {
     "data": {
      "text/plain": [
       "0"
      ]
     },
     "execution_count": 18,
     "metadata": {},
     "output_type": "execute_result"
    }
   ],
   "source": [
    "train_df[\"comment_text\"].isnull().sum()"
   ]
  },
  {
   "cell_type": "markdown",
   "id": "31046507",
   "metadata": {},
   "source": [
    "Null value has been filled in comment_text."
   ]
  },
  {
   "cell_type": "code",
   "execution_count": 19,
   "id": "403fa249",
   "metadata": {},
   "outputs": [
    {
     "data": {
      "text/plain": [
       "0    0.0\n",
       "Name: malignant, dtype: float64"
      ]
     },
     "execution_count": 19,
     "metadata": {},
     "output_type": "execute_result"
    }
   ],
   "source": [
    "train_df[\"malignant\"].mode()"
   ]
  },
  {
   "cell_type": "code",
   "execution_count": 20,
   "id": "ce0a12ee",
   "metadata": {},
   "outputs": [],
   "source": [
    "train_df[\"malignant\"].fillna(train_df[\"malignant\"].mode()[0],inplace=True)"
   ]
  },
  {
   "cell_type": "code",
   "execution_count": 21,
   "id": "de261a01",
   "metadata": {},
   "outputs": [
    {
     "data": {
      "text/plain": [
       "0"
      ]
     },
     "execution_count": 21,
     "metadata": {},
     "output_type": "execute_result"
    }
   ],
   "source": [
    "train_df[\"malignant\"].isnull().sum()"
   ]
  },
  {
   "cell_type": "markdown",
   "id": "c9765e1b",
   "metadata": {},
   "source": [
    "Null values has been filled in malignant."
   ]
  },
  {
   "cell_type": "code",
   "execution_count": 22,
   "id": "b7906395",
   "metadata": {},
   "outputs": [
    {
     "data": {
      "text/plain": [
       "93"
      ]
     },
     "execution_count": 22,
     "metadata": {},
     "output_type": "execute_result"
    }
   ],
   "source": [
    "train_df[\"highly_malignant\"].isnull().sum()"
   ]
  },
  {
   "cell_type": "code",
   "execution_count": 23,
   "id": "a836779c",
   "metadata": {},
   "outputs": [
    {
     "data": {
      "text/plain": [
       "0    0.0\n",
       "Name: highly_malignant, dtype: float64"
      ]
     },
     "execution_count": 23,
     "metadata": {},
     "output_type": "execute_result"
    }
   ],
   "source": [
    "train_df[\"highly_malignant\"].mode()"
   ]
  },
  {
   "cell_type": "code",
   "execution_count": 24,
   "id": "845babf6",
   "metadata": {},
   "outputs": [],
   "source": [
    "train_df[\"highly_malignant\"].fillna(train_df[\"highly_malignant\"].mode()[0],inplace=True)"
   ]
  },
  {
   "cell_type": "code",
   "execution_count": 25,
   "id": "f47f3e73",
   "metadata": {},
   "outputs": [
    {
     "data": {
      "text/plain": [
       "0"
      ]
     },
     "execution_count": 25,
     "metadata": {},
     "output_type": "execute_result"
    }
   ],
   "source": [
    "train_df[\"highly_malignant\"].isnull().sum()"
   ]
  },
  {
   "cell_type": "markdown",
   "id": "e44ff766",
   "metadata": {},
   "source": [
    "Null values has been filled in highly_malignant."
   ]
  },
  {
   "cell_type": "code",
   "execution_count": 26,
   "id": "fde43f8e",
   "metadata": {},
   "outputs": [
    {
     "data": {
      "text/plain": [
       "93"
      ]
     },
     "execution_count": 26,
     "metadata": {},
     "output_type": "execute_result"
    }
   ],
   "source": [
    "train_df[\"rude\"].isnull().sum()"
   ]
  },
  {
   "cell_type": "code",
   "execution_count": 27,
   "id": "facb8aa9",
   "metadata": {},
   "outputs": [
    {
     "data": {
      "text/plain": [
       "0    0.0\n",
       "Name: rude, dtype: float64"
      ]
     },
     "execution_count": 27,
     "metadata": {},
     "output_type": "execute_result"
    }
   ],
   "source": [
    "train_df[\"rude\"].mode()"
   ]
  },
  {
   "cell_type": "code",
   "execution_count": 28,
   "id": "92d6f716",
   "metadata": {},
   "outputs": [],
   "source": [
    "train_df[\"rude\"].fillna(train_df[\"rude\"].mode()[0],inplace=True)"
   ]
  },
  {
   "cell_type": "code",
   "execution_count": 29,
   "id": "2afe1321",
   "metadata": {},
   "outputs": [
    {
     "data": {
      "text/plain": [
       "0"
      ]
     },
     "execution_count": 29,
     "metadata": {},
     "output_type": "execute_result"
    }
   ],
   "source": [
    "train_df[\"rude\"].isnull().sum()"
   ]
  },
  {
   "cell_type": "markdown",
   "id": "f8034f51",
   "metadata": {},
   "source": [
    "Null value has been filled in rude column."
   ]
  },
  {
   "cell_type": "code",
   "execution_count": 30,
   "id": "d02aef83",
   "metadata": {},
   "outputs": [
    {
     "data": {
      "text/plain": [
       "93"
      ]
     },
     "execution_count": 30,
     "metadata": {},
     "output_type": "execute_result"
    }
   ],
   "source": [
    "train_df[\"threat\"].isnull().sum()"
   ]
  },
  {
   "cell_type": "code",
   "execution_count": 31,
   "id": "a06a5e2b",
   "metadata": {},
   "outputs": [
    {
     "data": {
      "text/plain": [
       "0    0.0\n",
       "Name: threat, dtype: float64"
      ]
     },
     "execution_count": 31,
     "metadata": {},
     "output_type": "execute_result"
    }
   ],
   "source": [
    "train_df[\"threat\"].mode()"
   ]
  },
  {
   "cell_type": "code",
   "execution_count": 32,
   "id": "a4f2e7ae",
   "metadata": {},
   "outputs": [],
   "source": [
    "train_df[\"threat\"].fillna(train_df[\"threat\"].mode()[0], inplace=True)"
   ]
  },
  {
   "cell_type": "code",
   "execution_count": 33,
   "id": "086a7995",
   "metadata": {},
   "outputs": [
    {
     "data": {
      "text/plain": [
       "0"
      ]
     },
     "execution_count": 33,
     "metadata": {},
     "output_type": "execute_result"
    }
   ],
   "source": [
    "train_df[\"threat\"].isnull().sum()"
   ]
  },
  {
   "cell_type": "markdown",
   "id": "9a197f6b",
   "metadata": {},
   "source": [
    "Null values has been filled in threat column."
   ]
  },
  {
   "cell_type": "code",
   "execution_count": 34,
   "id": "549364e7",
   "metadata": {},
   "outputs": [
    {
     "data": {
      "text/plain": [
       "93"
      ]
     },
     "execution_count": 34,
     "metadata": {},
     "output_type": "execute_result"
    }
   ],
   "source": [
    "train_df[\"abuse\"].isnull().sum()"
   ]
  },
  {
   "cell_type": "code",
   "execution_count": 35,
   "id": "4cfbbc46",
   "metadata": {},
   "outputs": [
    {
     "data": {
      "text/plain": [
       "0    0.0\n",
       "Name: abuse, dtype: float64"
      ]
     },
     "execution_count": 35,
     "metadata": {},
     "output_type": "execute_result"
    }
   ],
   "source": [
    "train_df[\"abuse\"].mode()"
   ]
  },
  {
   "cell_type": "code",
   "execution_count": 36,
   "id": "c2c494ad",
   "metadata": {},
   "outputs": [],
   "source": [
    "train_df[\"abuse\"].fillna(train_df[\"abuse\"].mode()[0],inplace=True)"
   ]
  },
  {
   "cell_type": "code",
   "execution_count": 37,
   "id": "4f72831b",
   "metadata": {},
   "outputs": [
    {
     "data": {
      "text/plain": [
       "0"
      ]
     },
     "execution_count": 37,
     "metadata": {},
     "output_type": "execute_result"
    }
   ],
   "source": [
    "train_df[\"abuse\"].isnull().sum()"
   ]
  },
  {
   "cell_type": "markdown",
   "id": "c4203c9a",
   "metadata": {},
   "source": [
    "Null values has been filled in abuse column."
   ]
  },
  {
   "cell_type": "code",
   "execution_count": 38,
   "id": "07a27faa",
   "metadata": {},
   "outputs": [
    {
     "data": {
      "text/plain": [
       "112"
      ]
     },
     "execution_count": 38,
     "metadata": {},
     "output_type": "execute_result"
    }
   ],
   "source": [
    "train_df[\"loathe\"].isnull().sum()"
   ]
  },
  {
   "cell_type": "code",
   "execution_count": 39,
   "id": "5c35c72e",
   "metadata": {},
   "outputs": [
    {
     "data": {
      "text/plain": [
       "0    0.0\n",
       "Name: loathe, dtype: float64"
      ]
     },
     "execution_count": 39,
     "metadata": {},
     "output_type": "execute_result"
    }
   ],
   "source": [
    "train_df[\"loathe\"].mode()"
   ]
  },
  {
   "cell_type": "code",
   "execution_count": 40,
   "id": "9d51b452",
   "metadata": {},
   "outputs": [],
   "source": [
    "train_df[\"loathe\"].fillna(train_df[\"loathe\"].mode()[0],inplace=True)"
   ]
  },
  {
   "cell_type": "code",
   "execution_count": 41,
   "id": "d172794a",
   "metadata": {},
   "outputs": [
    {
     "data": {
      "text/plain": [
       "0"
      ]
     },
     "execution_count": 41,
     "metadata": {},
     "output_type": "execute_result"
    }
   ],
   "source": [
    "train_df[\"loathe\"].isnull().sum()"
   ]
  },
  {
   "cell_type": "markdown",
   "id": "8c1a57f0",
   "metadata": {},
   "source": [
    "null values has been filled in loathe column."
   ]
  },
  {
   "cell_type": "markdown",
   "id": "9dc41a4d",
   "metadata": {},
   "source": [
    "CHECKING NULL VALUES AFETR FILL."
   ]
  },
  {
   "cell_type": "code",
   "execution_count": 42,
   "id": "21b6c3c7",
   "metadata": {},
   "outputs": [
    {
     "data": {
      "text/plain": [
       "id                  0\n",
       "comment_text        0\n",
       "malignant           0\n",
       "highly_malignant    0\n",
       "rude                0\n",
       "threat              0\n",
       "abuse               0\n",
       "loathe              0\n",
       "dtype: int64"
      ]
     },
     "execution_count": 42,
     "metadata": {},
     "output_type": "execute_result"
    }
   ],
   "source": [
    "train_df.isnull().sum()"
   ]
  },
  {
   "cell_type": "markdown",
   "id": "2a16ff5f",
   "metadata": {},
   "source": [
    "BY GRAPH"
   ]
  },
  {
   "cell_type": "code",
   "execution_count": 43,
   "id": "fb00e8dd",
   "metadata": {},
   "outputs": [
    {
     "data": {
      "text/plain": [
       "<AxesSubplot: >"
      ]
     },
     "execution_count": 43,
     "metadata": {},
     "output_type": "execute_result"
    },
    {
     "data": {
      "image/png": "[encoded data removed]",
      "text/plain": [
       "<Figure size 432x288 with 2 Axes>"
      ]
     },
     "metadata": {
      "needs_background": "light"
     },
     "output_type": "display_data"
    }
   ],
   "source": [
    "sns.heatmap(train_df.isnull())"
   ]
  },
  {
   "cell_type": "markdown",
   "id": "0ea58aa7",
   "metadata": {},
   "source": [
    "No blanks it means no null values in train DataFrame."
   ]
  },
  {
   "cell_type": "markdown",
   "id": "5ae0778e",
   "metadata": {},
   "source": [
    "TEST DATAFRAME"
   ]
  },
  {
   "cell_type": "code",
   "execution_count": 44,
   "id": "6743c5f9",
   "metadata": {},
   "outputs": [
    {
     "data": {
      "text/plain": [
       "id               0\n",
       "comment_text    29\n",
       "dtype: int64"
      ]
     },
     "execution_count": 44,
     "metadata": {},
     "output_type": "execute_result"
    }
   ],
   "source": [
    "test_df.isnull().sum()"
   ]
  },
  {
   "cell_type": "code",
   "execution_count": 45,
   "id": "fa0724c5",
   "metadata": {},
   "outputs": [
    {
     "data": {
      "text/plain": [
       "29"
      ]
     },
     "execution_count": 45,
     "metadata": {},
     "output_type": "execute_result"
    }
   ],
   "source": [
    "test_df[\"comment_text\"].isnull().sum()"
   ]
  },
  {
   "cell_type": "code",
   "execution_count": 46,
   "id": "80926bd9",
   "metadata": {},
   "outputs": [
    {
     "data": {
      "text/plain": [
       "0    #NAME?\n",
       "Name: comment_text, dtype: object"
      ]
     },
     "execution_count": 46,
     "metadata": {},
     "output_type": "execute_result"
    }
   ],
   "source": [
    "test_df[\"comment_text\"].mode()"
   ]
  },
  {
   "cell_type": "code",
   "execution_count": 47,
   "id": "58cb2520",
   "metadata": {},
   "outputs": [],
   "source": [
    "test_df[\"comment_text\"].fillna(test_df[\"comment_text\"].mode()[0], inplace=True)"
   ]
  },
  {
   "cell_type": "code",
   "execution_count": 48,
   "id": "db2d804d",
   "metadata": {},
   "outputs": [
    {
     "data": {
      "text/plain": [
       "0"
      ]
     },
     "execution_count": 48,
     "metadata": {},
     "output_type": "execute_result"
    }
   ],
   "source": [
    "test_df[\"comment_text\"].isnull().sum()"
   ]
  },
  {
   "cell_type": "markdown",
   "id": "67ef3ce0",
   "metadata": {},
   "source": [
    "Null values has been filled in comment_test."
   ]
  },
  {
   "cell_type": "markdown",
   "id": "5dcedfb2",
   "metadata": {},
   "source": [
    "CHECKING NULL VALUES AFTER FILL"
   ]
  },
  {
   "cell_type": "code",
   "execution_count": 49,
   "id": "b85b6039",
   "metadata": {},
   "outputs": [
    {
     "data": {
      "text/plain": [
       "id              0\n",
       "comment_text    0\n",
       "dtype: int64"
      ]
     },
     "execution_count": 49,
     "metadata": {},
     "output_type": "execute_result"
    }
   ],
   "source": [
    "test_df.isnull().sum()"
   ]
  },
  {
   "cell_type": "markdown",
   "id": "dc02d89b",
   "metadata": {},
   "source": [
    "BY GRAPH"
   ]
  },
  {
   "cell_type": "code",
   "execution_count": 50,
   "id": "9265239d",
   "metadata": {},
   "outputs": [
    {
     "data": {
      "text/plain": [
       "<AxesSubplot: >"
      ]
     },
     "execution_count": 50,
     "metadata": {},
     "output_type": "execute_result"
    },
    {
     "data": {
      "image/png": "[encoded data removed]",
      "text/plain": [
       "<Figure size 432x288 with 2 Axes>"
      ]
     },
     "metadata": {
      "needs_background": "light"
     },
     "output_type": "display_data"
    }
   ],
   "source": [
    "sns.heatmap(test_df.isnull())"
   ]
  },
  {
   "cell_type": "markdown",
   "id": "791ea260",
   "metadata": {},
   "source": [
    "No balnks it means no null values in test DataFrame."
   ]
  },
  {
   "cell_type": "markdown",
   "id": "7a3e8073",
   "metadata": {},
   "source": [
    "# STATISTICAL SUMMARY "
   ]
  },
  {
   "cell_type": "code",
   "execution_count": 51,
   "id": "55fa28c6",
   "metadata": {},
   "outputs": [
    {
     "data": {
      "text/html": [
       "<div>\n",
       "<style scoped>\n",
       "    .dataframe tbody tr th:only-of-type {\n",
       "        vertical-align: middle;\n",
       "    }\n",
       "\n",
       "    .dataframe tbody tr th {\n",
       "        vertical-align: top;\n",
       "    }\n",
       "\n",
       "    .dataframe thead th {\n",
       "        text-align: right;\n",
       "    }\n",
       "</style>\n",
       "<table border=\"1\" class=\"dataframe\">\n",
       "  <thead>\n",
       "    <tr style=\"text-align: right;\">\n",
       "      <th></th>\n",
       "      <th>malignant</th>\n",
       "      <th>highly_malignant</th>\n",
       "      <th>rude</th>\n",
       "      <th>threat</th>\n",
       "      <th>abuse</th>\n",
       "      <th>loathe</th>\n",
       "    </tr>\n",
       "  </thead>\n",
       "  <tbody>\n",
       "    <tr>\n",
       "      <th>count</th>\n",
       "      <td>159621.000000</td>\n",
       "      <td>159621.000000</td>\n",
       "      <td>159621.000000</td>\n",
       "      <td>159621.000000</td>\n",
       "      <td>159621.000000</td>\n",
       "      <td>159621.000000</td>\n",
       "    </tr>\n",
       "    <tr>\n",
       "      <th>mean</th>\n",
       "      <td>0.095783</td>\n",
       "      <td>0.009999</td>\n",
       "      <td>0.052900</td>\n",
       "      <td>0.002995</td>\n",
       "      <td>0.049336</td>\n",
       "      <td>0.008802</td>\n",
       "    </tr>\n",
       "    <tr>\n",
       "      <th>std</th>\n",
       "      <td>0.294295</td>\n",
       "      <td>0.099493</td>\n",
       "      <td>0.223835</td>\n",
       "      <td>0.054641</td>\n",
       "      <td>0.216568</td>\n",
       "      <td>0.093406</td>\n",
       "    </tr>\n",
       "    <tr>\n",
       "      <th>min</th>\n",
       "      <td>0.000000</td>\n",
       "      <td>0.000000</td>\n",
       "      <td>0.000000</td>\n",
       "      <td>0.000000</td>\n",
       "      <td>0.000000</td>\n",
       "      <td>0.000000</td>\n",
       "    </tr>\n",
       "    <tr>\n",
       "      <th>25%</th>\n",
       "      <td>0.000000</td>\n",
       "      <td>0.000000</td>\n",
       "      <td>0.000000</td>\n",
       "      <td>0.000000</td>\n",
       "      <td>0.000000</td>\n",
       "      <td>0.000000</td>\n",
       "    </tr>\n",
       "    <tr>\n",
       "      <th>50%</th>\n",
       "      <td>0.000000</td>\n",
       "      <td>0.000000</td>\n",
       "      <td>0.000000</td>\n",
       "      <td>0.000000</td>\n",
       "      <td>0.000000</td>\n",
       "      <td>0.000000</td>\n",
       "    </tr>\n",
       "    <tr>\n",
       "      <th>75%</th>\n",
       "      <td>0.000000</td>\n",
       "      <td>0.000000</td>\n",
       "      <td>0.000000</td>\n",
       "      <td>0.000000</td>\n",
       "      <td>0.000000</td>\n",
       "      <td>0.000000</td>\n",
       "    </tr>\n",
       "    <tr>\n",
       "      <th>max</th>\n",
       "      <td>1.000000</td>\n",
       "      <td>1.000000</td>\n",
       "      <td>1.000000</td>\n",
       "      <td>1.000000</td>\n",
       "      <td>1.000000</td>\n",
       "      <td>1.000000</td>\n",
       "    </tr>\n",
       "  </tbody>\n",
       "</table>\n",
       "</div>"
      ],
      "text/plain": [
       "           malignant  highly_malignant           rude         threat  \\\n",
       "count  159621.000000     159621.000000  159621.000000  159621.000000   \n",
       "mean        0.095783          0.009999       0.052900       0.002995   \n",
       "std         0.294295          0.099493       0.223835       0.054641   \n",
       "min         0.000000          0.000000       0.000000       0.000000   \n",
       "25%         0.000000          0.000000       0.000000       0.000000   \n",
       "50%         0.000000          0.000000       0.000000       0.000000   \n",
       "75%         0.000000          0.000000       0.000000       0.000000   \n",
       "max         1.000000          1.000000       1.000000       1.000000   \n",
       "\n",
       "               abuse         loathe  \n",
       "count  159621.000000  159621.000000  \n",
       "mean        0.049336       0.008802  \n",
       "std         0.216568       0.093406  \n",
       "min         0.000000       0.000000  \n",
       "25%         0.000000       0.000000  \n",
       "50%         0.000000       0.000000  \n",
       "75%         0.000000       0.000000  \n",
       "max         1.000000       1.000000  "
      ]
     },
     "execution_count": 51,
     "metadata": {},
     "output_type": "execute_result"
    }
   ],
   "source": [
    "train_df.describe()"
   ]
  },
  {
   "cell_type": "markdown",
   "id": "1efbad97",
   "metadata": {},
   "source": [
    "No null values in train dataset."
   ]
  },
  {
   "cell_type": "code",
   "execution_count": 52,
   "id": "4b64ce38",
   "metadata": {},
   "outputs": [
    {
     "data": {
      "text/html": [
       "<div>\n",
       "<style scoped>\n",
       "    .dataframe tbody tr th:only-of-type {\n",
       "        vertical-align: middle;\n",
       "    }\n",
       "\n",
       "    .dataframe tbody tr th {\n",
       "        vertical-align: top;\n",
       "    }\n",
       "\n",
       "    .dataframe thead th {\n",
       "        text-align: right;\n",
       "    }\n",
       "</style>\n",
       "<table border=\"1\" class=\"dataframe\">\n",
       "  <thead>\n",
       "    <tr style=\"text-align: right;\">\n",
       "      <th></th>\n",
       "      <th>id</th>\n",
       "      <th>comment_text</th>\n",
       "    </tr>\n",
       "  </thead>\n",
       "  <tbody>\n",
       "    <tr>\n",
       "      <th>count</th>\n",
       "      <td>153186</td>\n",
       "      <td>153186</td>\n",
       "    </tr>\n",
       "    <tr>\n",
       "      <th>unique</th>\n",
       "      <td>153186</td>\n",
       "      <td>153032</td>\n",
       "    </tr>\n",
       "    <tr>\n",
       "      <th>top</th>\n",
       "      <td>00001cee341fdb12</td>\n",
       "      <td>#NAME?</td>\n",
       "    </tr>\n",
       "    <tr>\n",
       "      <th>freq</th>\n",
       "      <td>1</td>\n",
       "      <td>155</td>\n",
       "    </tr>\n",
       "  </tbody>\n",
       "</table>\n",
       "</div>"
      ],
      "text/plain": [
       "                      id comment_text\n",
       "count             153186       153186\n",
       "unique            153186       153032\n",
       "top     00001cee341fdb12       #NAME?\n",
       "freq                   1          155"
      ]
     },
     "execution_count": 52,
     "metadata": {},
     "output_type": "execute_result"
    }
   ],
   "source": [
    "test_df.describe()"
   ]
  },
  {
   "cell_type": "markdown",
   "id": "9cd36e82",
   "metadata": {},
   "source": [
    "No null values in test dataset."
   ]
  },
  {
   "cell_type": "code",
   "execution_count": 53,
   "id": "c0f276ca",
   "metadata": {},
   "outputs": [
    {
     "data": {
      "text/plain": [
       "abuse               3.252177\n",
       "rude                3.248776\n",
       "malignant           3.055547\n",
       "highly_malignant    2.411608\n",
       "loathe              2.207477\n",
       "threat              1.687056\n",
       "dtype: float64"
      ]
     },
     "execution_count": 53,
     "metadata": {},
     "output_type": "execute_result"
    }
   ],
   "source": [
    "train_df.corr().sum().sort_values(ascending=False)"
   ]
  },
  {
   "cell_type": "markdown",
   "id": "e205cca4",
   "metadata": {},
   "source": [
    "abuse and rude columns are highly correlated and threat is very less correlated."
   ]
  },
  {
   "cell_type": "markdown",
   "id": "e24fd6fe",
   "metadata": {},
   "source": [
    "# DATA VISUALIZATION OR EDA"
   ]
  },
  {
   "cell_type": "code",
   "execution_count": 54,
   "id": "3a9e78d1",
   "metadata": {},
   "outputs": [
    {
     "data": {
      "text/plain": [
       "Index(['id', 'comment_text', 'malignant', 'highly_malignant', 'rude', 'threat',\n",
       "       'abuse', 'loathe'],\n",
       "      dtype='object')"
      ]
     },
     "execution_count": 54,
     "metadata": {},
     "output_type": "execute_result"
    }
   ],
   "source": [
    "train_df.keys()"
   ]
  },
  {
   "cell_type": "code",
   "execution_count": 55,
   "id": "27e59ab2",
   "metadata": {},
   "outputs": [
    {
     "data": {
      "text/plain": [
       "0000997932d777bf    1\n",
       "3950589e82500939    1\n",
       "394c379b686bb2f3    1\n",
       "394cacb160ea07c8    1\n",
       "394e0de4684a247b    1\n",
       "                   ..\n",
       "8e4015d1217fe8e7    1\n",
       "8e405319136593bc    1\n",
       "8e4290547502ec1a    1\n",
       "8e4292866044a0a0    1\n",
       "fff46fc426af1f9a    1\n",
       "Name: id, Length: 159621, dtype: int64"
      ]
     },
     "execution_count": 55,
     "metadata": {},
     "output_type": "execute_result"
    }
   ],
   "source": [
    "train_df[\"id\"].value_counts()"
   ]
  },
  {
   "cell_type": "markdown",
   "id": "312c8384",
   "metadata": {},
   "source": [
    "Lenght of id is 159621 , id is not much important for the data so we can drop this column."
   ]
  },
  {
   "cell_type": "code",
   "execution_count": 56,
   "id": "a62e5e16",
   "metadata": {},
   "outputs": [],
   "source": [
    "train_df.drop(\"id\",axis=1,inplace=True)"
   ]
  },
  {
   "cell_type": "code",
   "execution_count": 57,
   "id": "668aaf37",
   "metadata": {},
   "outputs": [
    {
     "data": {
      "text/plain": [
       "Index(['comment_text', 'malignant', 'highly_malignant', 'rude', 'threat',\n",
       "       'abuse', 'loathe'],\n",
       "      dtype='object')"
      ]
     },
     "execution_count": 57,
     "metadata": {},
     "output_type": "execute_result"
    }
   ],
   "source": [
    "train_df.keys()"
   ]
  },
  {
   "cell_type": "markdown",
   "id": "ee6cf93c",
   "metadata": {},
   "source": [
    "id column has been dropped."
   ]
  },
  {
   "cell_type": "code",
   "execution_count": 58,
   "id": "0a9e5bf3",
   "metadata": {},
   "outputs": [
    {
     "data": {
      "text/plain": [
       "0                                                                                                                                                                                                                                                                                                                                                                                                                                                                                                                                                                                                                                                                                                                                                                                                                                                                                                                                                                                                                                                                                                                                                                                                                                                                                                                                                                                                                                                                                                                                                                                                                                                                                                                                                                                                                                                                                                                                                                                                                                                                                                                                                                                                                                                                                                                                                                                                                                                                                                                                                                                                                                                                                                                                                                                                                                                                                                                                                                                                                                                                                                                                                                                                                                                                                                                                                                                                                                                                                                                                                                                                                                                                                                                                                                                                                                                                                                                                                                                                                                                               92\n",
       "Explanation\\nWhy the edits made under my username Hardcore Metallica Fan were reverted? They weren't vandalisms, just closure on some GAs after I voted at New York Dolls FAC. And please don't remove the template from the talk page since I'm retired now.89.205.38.27                                                                                                                                                                                                                                                                                                                                                                                                                                                                                                                                                                                                                                                                                                                                                                                                                                                                                                                                                                                                                                                                                                                                                                                                                                                                                                                                                                                                                                                                                                                                                                                                                                                                                                                                                                                                                                                                                                                                                                                                                                                                                                                                                                                                                                                                                                                                                                                                                                                                                                                                                                                                                                                                                                                                                                                                                                                                                                                                                                                                                                                                                                                                                                                                                                                                                                                                                                                                                                                                                                                                                                                                                                                                                                                                                                                        1\n",
       "\"\\n\\n Some tips for you! \\n\\nHi , I thought I'd drop a few notes on your talk page with some help on writing articles o)\\n\\nFirst of all, it may be best for you to do a bit of reading, starting with the Wikipedia manual of style, which will give you a lot of information about how Wikipedia prefers its articles to be written.  It's not as hard to follow as it might look; quite a bit of the information there probably won't be vital for you at first.\\n\\nSecond, I recommend you make a user sandbox - which is just an area you can use to practise in, and to make notes in, and to get things ready in.  If you click this red link: user:/Sandbox, that will let you create that page (it gives you an edit window to start work in).  Anything, anywhere, on the help and information pages which gives you an example, try it out in your sandbox until you're familiar with it.\\n\\nFor your article, the next thing you want to do is start collecting as much information as you can about it.  Google searches (particularly in Books and Scholar) will be your best friend for this!  Once you've found the information, the next most important thing is to start writing up each fact in your own words (very important, this), and make a note at the same time of exactly where that information came from.  Build in the references as you go along; I'm going to copy in, down below this, a whole heap of help on doing references, which was produced by one of our best teachers ().\\n\\nHere's another place that you'll find incredibly useful - citation templates which you can copy and paste into your sandbox, between  tags; you just fill in the blanks from your sources into the template, and you'll end up with nicely formatted inline citations o)  It all helps.  Remember to add a references section to your sandbox (make a new line, and put ==References== on it, and type {{reflist}} on the next line, so that you can see how your citations look as you do them.  Remember to save your page often! You don't want to lose your work.\\n\\nHopefully this will give you a good start and make life easier for you.  (talk â€¦stalk!) \\nHow references work\\n\\n Simple references \\n\\nThese require two parts;\\n\\na)\\nChzz is 98 years old. \"\"The book of Chzz\"\", Aardvark Books, 2009. \\n\\nHe likes tea.  [http://www.nicecupofteaandasitdown.com Tea website] \\n\\nb) A section called \"\"References\"\" with the special code \"\"{{reflist}}\"\";\\n== References ==\\n{{reflist}}\\n\\n(an existing article is likely to already have one of these sections)\\n\\nTo see the result of that, please look at user:chzz/demo/simpleref. Edit it, and check the code; perhaps make a test page of your own, such as user:/reftest and try it out.\\n\\n Named references \\n\\nChzz was born in 1837. \\n\"\"The book of Chzz\"\", Aardvark Books, 2009. \\n \\n\\nChzz lives in Footown.\\n\\nNote that the second usage has a / (and no closing ref tag). This needs a reference section as above; please see user:chzz/demo/namedref to see the result.\\n\\n Citation templates \\n\\nYou can put anything you like between  and , but using citation templates makes for a neat, consistent look;\\n\\nChzz has 37 Olympic medals.  {{Citation\\n | last = Smith\\n | first = John\\n | title = Olympic medal winners of the 20th century\\n | publication-date = 2001\\n | publisher = [[Cambridge University Press]]\\n | page = 125\\n | isbn = 0-521-37169-4\\n}}\\n\\n\\nPlease see user:chzz/demo/citeref to see the result.\\n\\nFor more help and tips on that subject, see user:chzz/help/refs.\\nSomething to make your life easier!\\n\\nHi there !  I've just come across one of your articles, and noticed that you had to create titles for your url links manually, or were using bare urls as references.\\n\\nYou  might want to consider using this tool - it makes your life a whole heap easier, by filling in complete citation templates for your links.  All you do is install the script on Special:MyPage/common.js, or or     1\n",
       "You are a retarded skinhead who defends neo-Nazis! \\n\\nI'll put a burning swastika in your esophagus.                                                                                                                                                                                                                                                                                                                                                                                                                                                                                                                                                                                                                                                                                                                                                                                                                                                                                                                                                                                                                                                                                                                                                                                                                                                                                                                                                                                                                                                                                                                                                                                                                                                                                                                                                                                                                                                                                                                                                                                                                                                                                                                                                                                                                                                                                                                                                                                                                                                                                                                                                                                                                                                                                                                                                                                                                                                                                                                                                                                                                                                                                                                                                                                                                                                                                                                                                                                                                                                                                                                                                                                                                                                                                                                                                                                                                                                                                                                                                            1\n",
       "No, it's not particularly common, and certainly not in books and periodicals in print today. It is not recognised as English by any authority, and it is not widely recognised by the general public. Paul Brians and Bryan Garner (see List of plain English words and phrases) both say this is incorrect usage. Please also see Standard English.                                                                                                                                                                                                                                                                                                                                                                                                                                                                                                                                                                                                                                                                                                                                                                                                                                                                                                                                                                                                                                                                                                                                                                                                                                                                                                                                                                                                                                                                                                                                                                                                                                                                                                                                                                                                                                                                                                                                                                                                                                                                                                                                                                                                                                                                                                                                                                                                                                                                                                                                                                                                                                                                                                                                                                                                                                                                                                                                                                                                                                                                                                                                                                                                                                                                                                                                                                                                                                                                                                                                                                                                                                                                                                             1\n",
       "                                                                                                                                                                                                                                                                                                                                                                                                                                                                                                                                                                                                                                                                                                                                                                                                                                                                                                                                                                                                                                                                                                                                                                                                                                                                                                                                                                                                                                                                                                                                                                                                                                                                                                                                                                                                                                                                                                                                                                                                                                                                                                                                                                                                                                                                                                                                                                                                                                                                                                                                                                                                                                                                                                                                                                                                                                                                                                                                                                                                                                                                                                                                                                                                                                                                                                                                                                                                                                                                                                                                                                                                                                                                                                                                                                                                                                                                                                                                                                                                                                                                ..\n",
       "\"\\n\\nDon't worry about the above too much - but copyrighted files like this can't be used when it's \"\"easy\"\" to get free shots.  That's why so many articles on living people don't have an image, they're waiting for free images to appear.  You also need to find some more sources about Kelly - IMDb isn't classed as a very reliable source because like wikipedia most of it is user generated content, so it isn't verifiably correct.   \"                                                                                                                                                                                                                                                                                                                                                                                                                                                                                                                                                                                                                                                                                                                                                                                                                                                                                                                                                                                                                                                                                                                                                                                                                                                                                                                                                                                                                                                                                                                                                                                                                                                                                                                                                                                                                                                                                                                                                                                                                                                                                                                                                                                                                                                                                                                                                                                                                                                                                                                                                                                                                                                                                                                                                                                                                                                                                                                                                                                                                                                                                                                                                                                                                                                                                                                                                                                                                                                                                                                                                                                                               1\n",
       "please reffer tkz.jpg                                                                                                                                                                                                                                                                                                                                                                                                                                                                                                                                                                                                                                                                                                                                                                                                                                                                                                                                                                                                                                                                                                                                                                                                                                                                                                                                                                                                                                                                                                                                                                                                                                                                                                                                                                                                                                                                                                                                                                                                                                                                                                                                                                                                                                                                                                                                                                                                                                                                                                                                                                                                                                                                                                                                                                                                                                                                                                                                                                                                                                                                                                                                                                                                                                                                                                                                                                                                                                                                                                                                                                                                                                                                                                                                                                                                                                                                                                                                                                                                                                            1\n",
       "\"\\n\\nFPC\\nI like the photos looking down the river and the path, as well as the photos of the street cars during the blizzard. Your hardest part will be getting the images sharpened. If you have Photoshop, you can try Smart Sharpen or Unsharp Mask, then downsize the image. If you get them sharpened, and mess around with the color/contrast to give the images some \"\"vibrance\"\" (whatever that means), they could have a chance. As Fir0002 suggested to me, however, I would wait until the FPC page is no longer loaded with the ultra-high-resolution images that it currently has. â€” 0918 â€¢ 2006-01-14 23:45\"                                                                                                                                                                                                                                                                                                                                                                                                                                                                                                                                                                                                                                                                                                                                                                                                                                                                                                                                                                                                                                                                                                                                                                                                                                                                                                                                                                                                                                                                                                                                                                                                                                                                                                                                                                                                                                                                                                                                                                                                                                                                                                                                                                                                                                                                                                                                                                                                                                                                                                                                                                                                                                                                                                                                                                                                                                                                                                                                                                                                                                                                                                                                                                                                                                                                                                                                                                                                                                  1\n",
       "\"\\nI am including them because a) the diocese info box contains this parameter b) Latin is the official language of the Catholic Church c) they are all coming from i) any idiot's basic understanding of Latin ii) the catholic-hierarchy.org website d) this is an encyclopedia - all notable information should be included lest it be necessary for some users. '''''' (talk)  \"                                                                                                                                                                                                                                                                                                                                                                                                                                                                                                                                                                                                                                                                                                                                                                                                                                                                                                                                                                                                                                                                                                                                                                                                                                                                                                                                                                                                                                                                                                                                                                                                                                                                                                                                                                                                                                                                                                                                                                                                                                                                                                                                                                                                                                                                                                                                                                                                                                                                                                                                                                                                                                                                                                                                                                                                                                                                                                                                                                                                                                                                                                                                                                                                                                                                                                                                                                                                                                                                                                                                                                                                                                                                             1\n",
       "\"\\nAnd ... I really don't think you understand.  I came here and my idea was bad right away.  What kind of community goes \"\"you have bad ideas\"\" go away, instead of helping rewrite them.   \"                                                                                                                                                                                                                                                                                                                                                                                                                                                                                                                                                                                                                                                                                                                                                                                                                                                                                                                                                                                                                                                                                                                                                                                                                                                                                                                                                                                                                                                                                                                                                                                                                                                                                                                                                                                                                                                                                                                                                                                                                                                                                                                                                                                                                                                                                                                                                                                                                                                                                                                                                                                                                                                                                                                                                                                                                                                                                                                                                                                                                                                                                                                                                                                                                                                                                                                                                                                                                                                                                                                                                                                                                                                                                                                                                                                                                                                                   1\n",
       "Name: comment_text, Length: 159530, dtype: int64"
      ]
     },
     "execution_count": 58,
     "metadata": {},
     "output_type": "execute_result"
    }
   ],
   "source": [
    "train_df[\"comment_text\"].value_counts()"
   ]
  },
  {
   "cell_type": "markdown",
   "id": "d3a7d9c4",
   "metadata": {},
   "source": [
    "Lenght of comment_text is 159530, it means every comments are diferent."
   ]
  },
  {
   "cell_type": "code",
   "execution_count": 59,
   "id": "75573d8a",
   "metadata": {},
   "outputs": [
    {
     "data": {
      "text/plain": [
       "0.0    144332\n",
       "1.0     15289\n",
       "Name: malignant, dtype: int64"
      ]
     },
     "execution_count": 59,
     "metadata": {},
     "output_type": "execute_result"
    }
   ],
   "source": [
    "train_df[\"malignant\"].value_counts()"
   ]
  },
  {
   "cell_type": "code",
   "execution_count": 60,
   "id": "87467907",
   "metadata": {},
   "outputs": [
    {
     "data": {
      "text/plain": [
       "<AxesSubplot: >"
      ]
     },
     "execution_count": 60,
     "metadata": {},
     "output_type": "execute_result"
    },
    {
     "data": {
      "image/png": "[encoded data removed]",
      "text/plain": [
       "<Figure size 432x288 with 1 Axes>"
      ]
     },
     "metadata": {
      "needs_background": "light"
     },
     "output_type": "display_data"
    }
   ],
   "source": [
    "sns.violinplot(train_df[\"malignant\"])"
   ]
  },
  {
   "cell_type": "markdown",
   "id": "7fb467a9",
   "metadata": {},
   "source": [
    "Out of 159621, 144332 comments are not malignant and 15289 comments are malignant."
   ]
  },
  {
   "cell_type": "code",
   "execution_count": 61,
   "id": "d1858412",
   "metadata": {},
   "outputs": [
    {
     "data": {
      "text/plain": [
       "0.0    158025\n",
       "1.0      1596\n",
       "Name: highly_malignant, dtype: int64"
      ]
     },
     "execution_count": 61,
     "metadata": {},
     "output_type": "execute_result"
    }
   ],
   "source": [
    "train_df[\"highly_malignant\"].value_counts()"
   ]
  },
  {
   "cell_type": "code",
   "execution_count": 62,
   "id": "42e2eeac",
   "metadata": {},
   "outputs": [
    {
     "data": {
      "text/plain": [
       "<AxesSubplot: >"
      ]
     },
     "execution_count": 62,
     "metadata": {},
     "output_type": "execute_result"
    },
    {
     "data": {
      "image/png": "[encoded data removed]",
      "text/plain": [
       "<Figure size 432x288 with 1 Axes>"
      ]
     },
     "metadata": {
      "needs_background": "light"
     },
     "output_type": "display_data"
    }
   ],
   "source": [
    "sns.violinplot(train_df[\"highly_malignant\"])"
   ]
  },
  {
   "cell_type": "markdown",
   "id": "8f6b190b",
   "metadata": {},
   "source": [
    "158025 comments are not highly malignant and 1596 comments are highly malignant."
   ]
  },
  {
   "cell_type": "code",
   "execution_count": 63,
   "id": "5ae545f7",
   "metadata": {},
   "outputs": [
    {
     "data": {
      "text/plain": [
       "0.0    151177\n",
       "1.0      8444\n",
       "Name: rude, dtype: int64"
      ]
     },
     "execution_count": 63,
     "metadata": {},
     "output_type": "execute_result"
    }
   ],
   "source": [
    "train_df[\"rude\"].value_counts()"
   ]
  },
  {
   "cell_type": "code",
   "execution_count": 64,
   "id": "d7ef88fc",
   "metadata": {},
   "outputs": [
    {
     "data": {
      "text/plain": [
       "<AxesSubplot: >"
      ]
     },
     "execution_count": 64,
     "metadata": {},
     "output_type": "execute_result"
    },
    {
     "data": {
      "image/png": "[encoded data removed]",
      "text/plain": [
       "<Figure size 432x288 with 1 Axes>"
      ]
     },
     "metadata": {
      "needs_background": "light"
     },
     "output_type": "display_data"
    }
   ],
   "source": [
    "sns.violinplot(train_df[\"rude\"])"
   ]
  },
  {
   "cell_type": "markdown",
   "id": "2c719c3f",
   "metadata": {},
   "source": [
    "Out of 159621, 8444 comments are rude."
   ]
  },
  {
   "cell_type": "code",
   "execution_count": 65,
   "id": "edcc0084",
   "metadata": {},
   "outputs": [
    {
     "data": {
      "text/plain": [
       "0.0    159143\n",
       "1.0       478\n",
       "Name: threat, dtype: int64"
      ]
     },
     "execution_count": 65,
     "metadata": {},
     "output_type": "execute_result"
    }
   ],
   "source": [
    "train_df[\"threat\"].value_counts()"
   ]
  },
  {
   "cell_type": "code",
   "execution_count": 66,
   "id": "5a1b030c",
   "metadata": {},
   "outputs": [
    {
     "data": {
      "text/plain": [
       "<AxesSubplot: >"
      ]
     },
     "execution_count": 66,
     "metadata": {},
     "output_type": "execute_result"
    },
    {
     "data": {
      "image/png": "[encoded data removed]",
      "text/plain": [
       "<Figure size 432x288 with 1 Axes>"
      ]
     },
     "metadata": {
      "needs_background": "light"
     },
     "output_type": "display_data"
    }
   ],
   "source": [
    "sns.violinplot(train_df[\"threat\"])"
   ]
  },
  {
   "cell_type": "markdown",
   "id": "4a919697",
   "metadata": {},
   "source": [
    "Out of 159621, 478 comments are threat."
   ]
  },
  {
   "cell_type": "code",
   "execution_count": 67,
   "id": "a3309687",
   "metadata": {},
   "outputs": [
    {
     "data": {
      "text/plain": [
       "0.0    151746\n",
       "1.0      7875\n",
       "Name: abuse, dtype: int64"
      ]
     },
     "execution_count": 67,
     "metadata": {},
     "output_type": "execute_result"
    }
   ],
   "source": [
    "train_df[\"abuse\"].value_counts()"
   ]
  },
  {
   "cell_type": "code",
   "execution_count": 68,
   "id": "fadf48aa",
   "metadata": {},
   "outputs": [
    {
     "data": {
      "text/plain": [
       "<AxesSubplot: >"
      ]
     },
     "execution_count": 68,
     "metadata": {},
     "output_type": "execute_result"
    },
    {
     "data": {
      "image/png": "[encoded data removed]",
      "text/plain": [
       "<Figure size 432x288 with 1 Axes>"
      ]
     },
     "metadata": {
      "needs_background": "light"
     },
     "output_type": "display_data"
    }
   ],
   "source": [
    "sns.violinplot(train_df[\"abuse\"])"
   ]
  },
  {
   "cell_type": "markdown",
   "id": "3ca66f1f",
   "metadata": {},
   "source": [
    "7875 comments are abuse."
   ]
  },
  {
   "cell_type": "code",
   "execution_count": 69,
   "id": "c7a50d2c",
   "metadata": {},
   "outputs": [
    {
     "data": {
      "text/plain": [
       "0.0    158216\n",
       "1.0      1405\n",
       "Name: loathe, dtype: int64"
      ]
     },
     "execution_count": 69,
     "metadata": {},
     "output_type": "execute_result"
    }
   ],
   "source": [
    "train_df[\"loathe\"].value_counts()"
   ]
  },
  {
   "cell_type": "code",
   "execution_count": 70,
   "id": "8a42d96d",
   "metadata": {},
   "outputs": [
    {
     "data": {
      "text/plain": [
       "<AxesSubplot: >"
      ]
     },
     "execution_count": 70,
     "metadata": {},
     "output_type": "execute_result"
    },
    {
     "data": {
      "image/png": "[encoded data removed]",
      "text/plain": [
       "<Figure size 432x288 with 1 Axes>"
      ]
     },
     "metadata": {
      "needs_background": "light"
     },
     "output_type": "display_data"
    }
   ],
   "source": [
    "sns.violinplot(train_df[\"loathe\"])"
   ]
  },
  {
   "cell_type": "markdown",
   "id": "8bf66e8b",
   "metadata": {},
   "source": [
    "1405 comments are loathe."
   ]
  },
  {
   "cell_type": "code",
   "execution_count": 71,
   "id": "2f771d3f",
   "metadata": {},
   "outputs": [
    {
     "data": {
      "text/plain": [
       "<seaborn.axisgrid.PairGrid at 0x28251144400>"
      ]
     },
     "execution_count": 71,
     "metadata": {},
     "output_type": "execute_result"
    },
    {
     "data": {
      "image/png": "[encoded data removed]",
      "text/plain": [
       "<Figure size 1080x1080 with 42 Axes>"
      ]
     },
     "metadata": {
      "needs_background": "light"
     },
     "output_type": "display_data"
    }
   ],
   "source": [
    "sns.pairplot(train_df)"
   ]
  },
  {
   "cell_type": "markdown",
   "id": "cb6ea6af",
   "metadata": {},
   "source": [
    "# CHECKING THE SKEWNESS "
   ]
  },
  {
   "cell_type": "code",
   "execution_count": 72,
   "id": "787749bd",
   "metadata": {},
   "outputs": [
    {
     "data": {
      "text/plain": [
       "threat              18.191876\n",
       "loathe              10.517614\n",
       "highly_malignant     9.850131\n",
       "abuse                4.161917\n",
       "rude                 3.994951\n",
       "malignant            2.747057\n",
       "dtype: float64"
      ]
     },
     "execution_count": 72,
     "metadata": {},
     "output_type": "execute_result"
    }
   ],
   "source": [
    "train_df.skew().sort_values(ascending=False)"
   ]
  },
  {
   "cell_type": "markdown",
   "id": "7d11bd5e",
   "metadata": {},
   "source": [
    "threat and loathe column has high skewness."
   ]
  },
  {
   "cell_type": "code",
   "execution_count": 73,
   "id": "a863757c",
   "metadata": {},
   "outputs": [],
   "source": [
    "from nltk.stem import WordNetLemmatizer\n",
    "import nltk\n",
    "from nltk.corpus import stopwords\n",
    "import string"
   ]
  },
  {
   "cell_type": "code",
   "execution_count": 74,
   "id": "25198fa1",
   "metadata": {},
   "outputs": [
    {
     "data": {
      "text/html": [
       "<div>\n",
       "<style scoped>\n",
       "    .dataframe tbody tr th:only-of-type {\n",
       "        vertical-align: middle;\n",
       "    }\n",
       "\n",
       "    .dataframe tbody tr th {\n",
       "        vertical-align: top;\n",
       "    }\n",
       "\n",
       "    .dataframe thead th {\n",
       "        text-align: right;\n",
       "    }\n",
       "</style>\n",
       "<table border=\"1\" class=\"dataframe\">\n",
       "  <thead>\n",
       "    <tr style=\"text-align: right;\">\n",
       "      <th></th>\n",
       "      <th>comment_text</th>\n",
       "      <th>malignant</th>\n",
       "      <th>highly_malignant</th>\n",
       "      <th>rude</th>\n",
       "      <th>threat</th>\n",
       "      <th>abuse</th>\n",
       "      <th>loathe</th>\n",
       "      <th>length</th>\n",
       "    </tr>\n",
       "  </thead>\n",
       "  <tbody>\n",
       "    <tr>\n",
       "      <th>0</th>\n",
       "      <td>Explanation\\nWhy the edits made under my usern...</td>\n",
       "      <td>0.0</td>\n",
       "      <td>0.0</td>\n",
       "      <td>0.0</td>\n",
       "      <td>0.0</td>\n",
       "      <td>0.0</td>\n",
       "      <td>0.0</td>\n",
       "      <td>264</td>\n",
       "    </tr>\n",
       "    <tr>\n",
       "      <th>1</th>\n",
       "      <td>D'aww! He matches this background colour I'm s...</td>\n",
       "      <td>0.0</td>\n",
       "      <td>0.0</td>\n",
       "      <td>0.0</td>\n",
       "      <td>0.0</td>\n",
       "      <td>0.0</td>\n",
       "      <td>0.0</td>\n",
       "      <td>112</td>\n",
       "    </tr>\n",
       "  </tbody>\n",
       "</table>\n",
       "</div>"
      ],
      "text/plain": [
       "                                        comment_text  malignant  \\\n",
       "0  Explanation\\nWhy the edits made under my usern...        0.0   \n",
       "1  D'aww! He matches this background colour I'm s...        0.0   \n",
       "\n",
       "   highly_malignant  rude  threat  abuse  loathe  length  \n",
       "0               0.0   0.0     0.0    0.0     0.0     264  \n",
       "1               0.0   0.0     0.0    0.0     0.0     112  "
      ]
     },
     "execution_count": 74,
     "metadata": {},
     "output_type": "execute_result"
    }
   ],
   "source": [
    "train_df['length'] = train_df['comment_text'].str.len()\n",
    "train_df.head(2)"
   ]
  },
  {
   "cell_type": "code",
   "execution_count": 75,
   "id": "29b57be1",
   "metadata": {},
   "outputs": [],
   "source": [
    "# Convert all messages to lower case\n",
    "train_df['comment_text']=train_df['comment_text'].str.lower()"
   ]
  },
  {
   "cell_type": "code",
   "execution_count": 76,
   "id": "ad0ce3d5",
   "metadata": {},
   "outputs": [
    {
     "data": {
      "text/plain": [
       "0         explanation\\nwhy the edits made under my usern...\n",
       "1         d'aww! he matches this background colour i'm s...\n",
       "2         hey man, i'm really not trying to edit war. it...\n",
       "3         \"\\nmore\\ni can't make any real suggestions on ...\n",
       "4         you, sir, are my hero. any chance you remember...\n",
       "                                ...                        \n",
       "159616    \":::::and for the second time of asking, when ...\n",
       "159617    you should be ashamed of yourself \\n\\nthat is ...\n",
       "159618    spitzer \\n\\numm, theres no actual article for ...\n",
       "159619    and it looks like it was actually you who put ...\n",
       "159620    \"\\nand ... i really don't think you understand...\n",
       "Name: comment_text, Length: 159621, dtype: object"
      ]
     },
     "execution_count": 76,
     "metadata": {},
     "output_type": "execute_result"
    }
   ],
   "source": [
    "train_df['comment_text']"
   ]
  },
  {
   "cell_type": "code",
   "execution_count": 77,
   "id": "fbd34511",
   "metadata": {},
   "outputs": [],
   "source": [
    "# Replace email addresses with 'email'\n",
    "train_df['comment_text']=train_df['comment_text'].str.replace(r'^.+@[^\\.].*\\.[a-z]{2,}$','emailaddress')"
   ]
  },
  {
   "cell_type": "code",
   "execution_count": 78,
   "id": "8ce1305e",
   "metadata": {},
   "outputs": [],
   "source": [
    "# Replace URLs with 'webaddress'\n",
    "train_df['comment_text'] = train_df['comment_text'].str.replace(r'^http\\://[a-zA-Z0-9\\-\\.]+\\.[a-zA-Z]{2,3}(/\\S*)?$','webaddress')"
   ]
  },
  {
   "cell_type": "code",
   "execution_count": 79,
   "id": "f644ee39",
   "metadata": {},
   "outputs": [],
   "source": [
    "# Replace money symbols with 'moneysymb' (£ can by typed with ALT key + 156)\n",
    "train_df['comment_text'] = train_df['comment_text'].str.replace(r'£|\\$', 'dollers')"
   ]
  },
  {
   "cell_type": "code",
   "execution_count": 80,
   "id": "a77478dc",
   "metadata": {},
   "outputs": [],
   "source": [
    "# Replace 10 digit phone numbers (formats include paranthesis, spaces, no spaces, dashes) with 'phonenumber'\n",
    "train_df['comment_text'] = train_df['comment_text'].str.replace(r'^\\(?[\\d]{3}\\)?[\\s-]?[\\d]{3}[\\s-]?[\\d]{4}$','phonenumber')"
   ]
  },
  {
   "cell_type": "code",
   "execution_count": 81,
   "id": "d2452d56",
   "metadata": {},
   "outputs": [],
   "source": [
    "# Replace numbers with 'numbr'\n",
    "train_df['comment_text'] = train_df['comment_text'].str.replace(r'\\d+(\\.\\d+)?','numbr')\n"
   ]
  },
  {
   "cell_type": "code",
   "execution_count": 82,
   "id": "1a873732",
   "metadata": {},
   "outputs": [],
   "source": [
    "train_df['comment_text'] = train_df['comment_text'].apply(lambda x: ' '.join(term for term in x.split() if term not in string.punctuation))\n"
   ]
  },
  {
   "cell_type": "code",
   "execution_count": 83,
   "id": "8b670426",
   "metadata": {},
   "outputs": [
    {
     "data": {
      "text/html": [
       "<div>\n",
       "<style scoped>\n",
       "    .dataframe tbody tr th:only-of-type {\n",
       "        vertical-align: middle;\n",
       "    }\n",
       "\n",
       "    .dataframe tbody tr th {\n",
       "        vertical-align: top;\n",
       "    }\n",
       "\n",
       "    .dataframe thead th {\n",
       "        text-align: right;\n",
       "    }\n",
       "</style>\n",
       "<table border=\"1\" class=\"dataframe\">\n",
       "  <thead>\n",
       "    <tr style=\"text-align: right;\">\n",
       "      <th></th>\n",
       "      <th>comment_text</th>\n",
       "      <th>malignant</th>\n",
       "      <th>highly_malignant</th>\n",
       "      <th>rude</th>\n",
       "      <th>threat</th>\n",
       "      <th>abuse</th>\n",
       "      <th>loathe</th>\n",
       "      <th>length</th>\n",
       "      <th>clean_length</th>\n",
       "    </tr>\n",
       "  </thead>\n",
       "  <tbody>\n",
       "    <tr>\n",
       "      <th>0</th>\n",
       "      <td>explanation why the edits made under my userna...</td>\n",
       "      <td>0.0</td>\n",
       "      <td>0.0</td>\n",
       "      <td>0.0</td>\n",
       "      <td>0.0</td>\n",
       "      <td>0.0</td>\n",
       "      <td>0.0</td>\n",
       "      <td>264</td>\n",
       "      <td>263</td>\n",
       "    </tr>\n",
       "    <tr>\n",
       "      <th>1</th>\n",
       "      <td>d'aww! he matches this background colour i'm s...</td>\n",
       "      <td>0.0</td>\n",
       "      <td>0.0</td>\n",
       "      <td>0.0</td>\n",
       "      <td>0.0</td>\n",
       "      <td>0.0</td>\n",
       "      <td>0.0</td>\n",
       "      <td>112</td>\n",
       "      <td>121</td>\n",
       "    </tr>\n",
       "    <tr>\n",
       "      <th>2</th>\n",
       "      <td>hey man, i'm really not trying to edit war. it...</td>\n",
       "      <td>0.0</td>\n",
       "      <td>0.0</td>\n",
       "      <td>0.0</td>\n",
       "      <td>0.0</td>\n",
       "      <td>0.0</td>\n",
       "      <td>0.0</td>\n",
       "      <td>233</td>\n",
       "      <td>233</td>\n",
       "    </tr>\n",
       "    <tr>\n",
       "      <th>3</th>\n",
       "      <td>more i can't make any real suggestions on impr...</td>\n",
       "      <td>0.0</td>\n",
       "      <td>0.0</td>\n",
       "      <td>0.0</td>\n",
       "      <td>0.0</td>\n",
       "      <td>0.0</td>\n",
       "      <td>0.0</td>\n",
       "      <td>622</td>\n",
       "      <td>611</td>\n",
       "    </tr>\n",
       "    <tr>\n",
       "      <th>4</th>\n",
       "      <td>you, sir, are my hero. any chance you remember...</td>\n",
       "      <td>0.0</td>\n",
       "      <td>0.0</td>\n",
       "      <td>0.0</td>\n",
       "      <td>0.0</td>\n",
       "      <td>0.0</td>\n",
       "      <td>0.0</td>\n",
       "      <td>67</td>\n",
       "      <td>67</td>\n",
       "    </tr>\n",
       "  </tbody>\n",
       "</table>\n",
       "</div>"
      ],
      "text/plain": [
       "                                        comment_text  malignant  \\\n",
       "0  explanation why the edits made under my userna...        0.0   \n",
       "1  d'aww! he matches this background colour i'm s...        0.0   \n",
       "2  hey man, i'm really not trying to edit war. it...        0.0   \n",
       "3  more i can't make any real suggestions on impr...        0.0   \n",
       "4  you, sir, are my hero. any chance you remember...        0.0   \n",
       "\n",
       "   highly_malignant  rude  threat  abuse  loathe  length  clean_length  \n",
       "0               0.0   0.0     0.0    0.0     0.0     264           263  \n",
       "1               0.0   0.0     0.0    0.0     0.0     112           121  \n",
       "2               0.0   0.0     0.0    0.0     0.0     233           233  \n",
       "3               0.0   0.0     0.0    0.0     0.0     622           611  \n",
       "4               0.0   0.0     0.0    0.0     0.0      67            67  "
      ]
     },
     "execution_count": 83,
     "metadata": {},
     "output_type": "execute_result"
    }
   ],
   "source": [
    "train_df['clean_length'] = train_df.comment_text.str.len()\n",
    "train_df.head()"
   ]
  },
  {
   "cell_type": "code",
   "execution_count": 84,
   "id": "0504f9d4",
   "metadata": {},
   "outputs": [
    {
     "name": "stdout",
     "output_type": "stream",
     "text": [
      "Origian Length 62979376\n",
      "Clean Length 62601017\n"
     ]
    }
   ],
   "source": [
    "# Total length removal\n",
    "print ('Origian Length', train_df.length.sum())\n",
    "print ('Clean Length', train_df.clean_length.sum())"
   ]
  },
  {
   "cell_type": "code",
   "execution_count": 85,
   "id": "9732fc3e",
   "metadata": {},
   "outputs": [
    {
     "data": {
      "text/plain": [
       "<matplotlib.legend.Legend at 0x2824e1e1a90>"
      ]
     },
     "execution_count": 85,
     "metadata": {},
     "output_type": "execute_result"
    },
    {
     "data": {
      "image/png": "[encoded data removed]",
      "text/plain": [
       "<Figure size 360x360 with 1 Axes>"
      ]
     },
     "metadata": {},
     "output_type": "display_data"
    }
   ],
   "source": [
    "cols_target = ['malignant','highly_malignant','rude','threat','abuse','loathe']\n",
    "df_distribution = train_df[cols_target].sum()\\\n",
    "                            .to_frame()\\\n",
    "                            .rename(columns={0: 'count'})\\\n",
    "                            .sort_values('count')\n",
    "\n",
    "df_distribution.plot.pie(y='count',\n",
    "                                      title='Label distribution over comments',\n",
    "                                      figsize=(5, 5))\\\n",
    "                            .legend(loc='center left', bbox_to_anchor=(1.3, 0.5))"
   ]
  },
  {
   "cell_type": "markdown",
   "id": "4bf761fe",
   "metadata": {},
   "source": [
    "We can see rude and abuse comments are higher than others which comments are malignant."
   ]
  },
  {
   "cell_type": "code",
   "execution_count": 86,
   "id": "471f708e",
   "metadata": {},
   "outputs": [
    {
     "name": "stdout",
     "output_type": "stream",
     "text": [
      "0.0    143400\n",
      "1.0      6360\n",
      "3.0      4208\n",
      "2.0      3478\n",
      "4.0      1759\n",
      "5.0       385\n",
      "6.0        31\n",
      "Name: bad, dtype: int64\n",
      "0    143400\n",
      "1     16221\n",
      "Name: bad, dtype: int64\n"
     ]
    }
   ],
   "source": [
    "target_data = train_df[cols_target]\n",
    "train_df['bad'] =train_df[cols_target].sum(axis =1)\n",
    "print(train_df['bad'].value_counts())\n",
    "\n",
    "train_df['bad'] = train_df['bad'] > 0 \n",
    "train_df['bad'] = train_df['bad'].astype(int)\n",
    "print(train_df['bad'].value_counts())"
   ]
  },
  {
   "cell_type": "code",
   "execution_count": 87,
   "id": "506b842c",
   "metadata": {},
   "outputs": [
    {
     "data": {
      "image/png": "[encoded data removed]",
      "text/plain": [
       "<Figure size 432x288 with 1 Axes>"
      ]
     },
     "metadata": {},
     "output_type": "display_data"
    }
   ],
   "source": [
    "sns.set()\n",
    "sns.countplot(x=\"bad\",data=train_df)\n",
    "plt.show()"
   ]
  },
  {
   "cell_type": "markdown",
   "id": "4949a84b",
   "metadata": {},
   "source": [
    "143400 comments are not malignant and 16221 comments are malignant."
   ]
  },
  {
   "cell_type": "code",
   "execution_count": 88,
   "id": "0b1c7979",
   "metadata": {},
   "outputs": [],
   "source": [
    "#  Convert text into vectors using TF-IDF\n",
    "from sklearn.feature_extraction.text import TfidfVectorizer\n",
    "tf_vec = TfidfVectorizer(max_features = 10000, stop_words='english')\n",
    "features = tf_vec.fit_transform(train_df['comment_text'])\n",
    "x = features"
   ]
  },
  {
   "cell_type": "code",
   "execution_count": 89,
   "id": "9c450644",
   "metadata": {},
   "outputs": [
    {
     "data": {
      "text/plain": [
       "(159621, 10)"
      ]
     },
     "execution_count": 89,
     "metadata": {},
     "output_type": "execute_result"
    }
   ],
   "source": [
    "train_df.shape"
   ]
  },
  {
   "cell_type": "code",
   "execution_count": 90,
   "id": "af69fea0",
   "metadata": {},
   "outputs": [
    {
     "data": {
      "text/plain": [
       "(153186, 2)"
      ]
     },
     "execution_count": 90,
     "metadata": {},
     "output_type": "execute_result"
    }
   ],
   "source": [
    "test_df.shape"
   ]
  },
  {
   "cell_type": "code",
   "execution_count": 91,
   "id": "5437f23c",
   "metadata": {},
   "outputs": [],
   "source": [
    "y=train_df['bad']"
   ]
  },
  {
   "cell_type": "code",
   "execution_count": 92,
   "id": "a3be32d8",
   "metadata": {},
   "outputs": [],
   "source": [
    "from sklearn.model_selection import train_test_split\n",
    "from sklearn.metrics import accuracy_score, confusion_matrix, classification_report,roc_curve,roc_auc_score,auc,f1_score\n",
    "\n",
    "from sklearn.tree import DecisionTreeClassifier\n",
    "from sklearn.neighbors import KNeighborsClassifier\n",
    "from sklearn.ensemble import RandomForestClassifier,AdaBoostClassifier\n",
    "from sklearn.linear_model import LogisticRegression"
   ]
  },
  {
   "cell_type": "code",
   "execution_count": 93,
   "id": "419477f2",
   "metadata": {},
   "outputs": [],
   "source": [
    "x_train,x_test,y_train,y_test=train_test_split(x,y,random_state=56,test_size=.30)"
   ]
  },
  {
   "cell_type": "code",
   "execution_count": 94,
   "id": "514c097f",
   "metadata": {},
   "outputs": [
    {
     "name": "stdout",
     "output_type": "stream",
     "text": [
      "(111734,)\n",
      "(47887,)\n"
     ]
    }
   ],
   "source": [
    "print(y_train.shape),\n",
    "print(y_test.shape)"
   ]
  },
  {
   "cell_type": "code",
   "execution_count": 95,
   "id": "5209b1bc",
   "metadata": {},
   "outputs": [
    {
     "name": "stdout",
     "output_type": "stream",
     "text": [
      "Training accuracy is 0.9599495229742065\n",
      "Test accuracy is 0.9547685175517364\n",
      "[[42707   247]\n",
      " [ 1919  3014]]\n",
      "              precision    recall  f1-score   support\n",
      "\n",
      "           0       0.96      0.99      0.98     42954\n",
      "           1       0.92      0.61      0.74      4933\n",
      "\n",
      "    accuracy                           0.95     47887\n",
      "   macro avg       0.94      0.80      0.86     47887\n",
      "weighted avg       0.95      0.95      0.95     47887\n",
      "\n"
     ]
    }
   ],
   "source": [
    "# LogisticRegression\n",
    "LG = LogisticRegression()\n",
    "LG.fit(x_train, y_train)\n",
    "\n",
    "y_pred_train = LG.predict(x_train)\n",
    "print('Training accuracy is {}'.format(accuracy_score(y_train, y_pred_train)))\n",
    "y_pred_test = LG.predict(x_test)\n",
    "print('Test accuracy is {}'.format(accuracy_score(y_test,y_pred_test)))\n",
    "print(confusion_matrix(y_test,y_pred_test))\n",
    "print(classification_report(y_test,y_pred_test))"
   ]
  },
  {
   "cell_type": "code",
   "execution_count": 96,
   "id": "f35f6231",
   "metadata": {},
   "outputs": [
    {
     "name": "stdout",
     "output_type": "stream",
     "text": [
      "Training accuracy is 0.9989170709005316\n",
      "Test accuracy is 0.9412157788126214\n",
      "[[41623  1331]\n",
      " [ 1484  3449]]\n",
      "              precision    recall  f1-score   support\n",
      "\n",
      "           0       0.97      0.97      0.97     42954\n",
      "           1       0.72      0.70      0.71      4933\n",
      "\n",
      "    accuracy                           0.94     47887\n",
      "   macro avg       0.84      0.83      0.84     47887\n",
      "weighted avg       0.94      0.94      0.94     47887\n",
      "\n"
     ]
    }
   ],
   "source": [
    "# DecisionTreeClassifier\n",
    "DT = DecisionTreeClassifier()\n",
    "DT.fit(x_train, y_train)\n",
    "\n",
    "y_pred_train = DT.predict(x_train)\n",
    "print('Training accuracy is {}'.format(accuracy_score(y_train, y_pred_train)))\n",
    "y_pred_test = DT.predict(x_test)\n",
    "print('Test accuracy is {}'.format(accuracy_score(y_test,y_pred_test)))\n",
    "print(confusion_matrix(y_test,y_pred_test))\n",
    "print(classification_report(y_test,y_pred_test))"
   ]
  },
  {
   "cell_type": "code",
   "execution_count": 97,
   "id": "df90cd31",
   "metadata": {},
   "outputs": [
    {
     "name": "stdout",
     "output_type": "stream",
     "text": [
      "Training accuracy is 0.9988812715914582\n",
      "Test accuracy is 0.9561676446634786\n",
      "[[42388   566]\n",
      " [ 1533  3400]]\n",
      "              precision    recall  f1-score   support\n",
      "\n",
      "           0       0.97      0.99      0.98     42954\n",
      "           1       0.86      0.69      0.76      4933\n",
      "\n",
      "    accuracy                           0.96     47887\n",
      "   macro avg       0.91      0.84      0.87     47887\n",
      "weighted avg       0.95      0.96      0.95     47887\n",
      "\n"
     ]
    }
   ],
   "source": [
    "#RandomForestClassifier\n",
    "RF = RandomForestClassifier()\n",
    "RF.fit(x_train, y_train)\n",
    "\n",
    "y_pred_train = RF.predict(x_train)\n",
    "print('Training accuracy is {}'.format(accuracy_score(y_train, y_pred_train)))\n",
    "y_pred_test = RF.predict(x_test)\n",
    "print('Test accuracy is {}'.format(accuracy_score(y_test,y_pred_test)))\n",
    "print(confusion_matrix(y_test,y_pred_test))\n",
    "print(classification_report(y_test,y_pred_test))"
   ]
  },
  {
   "cell_type": "code",
   "execution_count": 98,
   "id": "147459e1",
   "metadata": {},
   "outputs": [
    {
     "name": "stdout",
     "output_type": "stream",
     "text": [
      "Training accuracy is 0.9511428929421663\n",
      "Test accuracy is 0.9491511266105623\n",
      "[[42528   426]\n",
      " [ 2009  2924]]\n",
      "              precision    recall  f1-score   support\n",
      "\n",
      "           0       0.95      0.99      0.97     42954\n",
      "           1       0.87      0.59      0.71      4933\n",
      "\n",
      "    accuracy                           0.95     47887\n",
      "   macro avg       0.91      0.79      0.84     47887\n",
      "weighted avg       0.95      0.95      0.94     47887\n",
      "\n"
     ]
    }
   ],
   "source": [
    "#AdaBoostClassifier\n",
    "ada=AdaBoostClassifier(n_estimators=100)\n",
    "ada.fit(x_train, y_train)\n",
    "y_pred_train = ada.predict(x_train)\n",
    "print('Training accuracy is {}'.format(accuracy_score(y_train, y_pred_train)))\n",
    "y_pred_test = ada.predict(x_test)\n",
    "print('Test accuracy is {}'.format(accuracy_score(y_test,y_pred_test)))\n",
    "print(confusion_matrix(y_test,y_pred_test))\n",
    "print(classification_report(y_test,y_pred_test))"
   ]
  },
  {
   "cell_type": "code",
   "execution_count": 99,
   "id": "884d2c4a",
   "metadata": {},
   "outputs": [
    {
     "name": "stdout",
     "output_type": "stream",
     "text": [
      "Training accuracy is 0.9220112051837399\n",
      "Test accuracy is 0.9156556059055694\n",
      "[[42772   182]\n",
      " [ 3857  1076]]\n",
      "              precision    recall  f1-score   support\n",
      "\n",
      "           0       0.92      1.00      0.95     42954\n",
      "           1       0.86      0.22      0.35      4933\n",
      "\n",
      "    accuracy                           0.92     47887\n",
      "   macro avg       0.89      0.61      0.65     47887\n",
      "weighted avg       0.91      0.92      0.89     47887\n",
      "\n"
     ]
    }
   ],
   "source": [
    "#KNeighborsClassifier\n",
    "knn=KNeighborsClassifier(n_neighbors=9)\n",
    "knn.fit(x_train, y_train)\n",
    "y_pred_train = knn.predict(x_train)\n",
    "print('Training accuracy is {}'.format(accuracy_score(y_train, y_pred_train)))\n",
    "y_pred_test = knn.predict(x_test)\n",
    "print('Test accuracy is {}'.format(accuracy_score(y_test,y_pred_test)))\n",
    "print(confusion_matrix(y_test,y_pred_test))\n",
    "print(classification_report(y_test,y_pred_test))"
   ]
  },
  {
   "cell_type": "markdown",
   "id": "3f921bf8",
   "metadata": {},
   "source": [
    "# By using all the algorithms RandomForestClassifier is working well."
   ]
  },
  {
   "cell_type": "code",
   "execution_count": 100,
   "id": "87889b88",
   "metadata": {},
   "outputs": [],
   "source": [
    "from sklearn.model_selection import cross_val_score,GridSearchCV"
   ]
  },
  {
   "cell_type": "code",
   "execution_count": 101,
   "id": "baed1ca6",
   "metadata": {},
   "outputs": [
    {
     "name": "stdout",
     "output_type": "stream",
     "text": [
      "Training accuracy is 0.9988902214187266\n",
      "Test accuracy is 0.9561885271576838\n",
      "cross validation score : 95.6966808888017\n",
      "[[42387   567]\n",
      " [ 1531  3402]]\n",
      "              precision    recall  f1-score   support\n",
      "\n",
      "           0       0.97      0.99      0.98     42954\n",
      "           1       0.86      0.69      0.76      4933\n",
      "\n",
      "    accuracy                           0.96     47887\n",
      "   macro avg       0.91      0.84      0.87     47887\n",
      "weighted avg       0.95      0.96      0.95     47887\n",
      "\n"
     ]
    }
   ],
   "source": [
    "# RandomForestClassifier\n",
    "RF = RandomForestClassifier()\n",
    "RF.fit(x_train, y_train)\n",
    "y_pred_train = RF.predict(x_train)\n",
    "print('Training accuracy is {}'.format(accuracy_score(y_train, y_pred_train)))\n",
    "y_pred_test = RF.predict(x_test)\n",
    "print('Test accuracy is {}'.format(accuracy_score(y_test,y_pred_test)))\n",
    "cvs=cross_val_score(RF, x, y, cv=10, scoring='accuracy').mean()\n",
    "print('cross validation score :',cvs*100)\n",
    "print(confusion_matrix(y_test,y_pred_test))\n",
    "print(classification_report(y_test,y_pred_test))"
   ]
  },
  {
   "cell_type": "code",
   "execution_count": 102,
   "id": "ea56c818",
   "metadata": {},
   "outputs": [
    {
     "data": {
      "image/png": "[encoded data removed]",
      "text/plain": [
       "<Figure size 432x288 with 1 Axes>"
      ]
     },
     "metadata": {},
     "output_type": "display_data"
    }
   ],
   "source": [
    "#Plotting the graph which tells us about the area under curve , more the area under curve more will be the better prediction\n",
    "# model is performing good :\n",
    "fpr,tpr,thresholds=roc_curve(y_test,y_pred_test)\n",
    "roc_auc=auc(fpr,tpr)\n",
    "plt.plot([0,1],[1,0],'k--')\n",
    "plt.plot(fpr,tpr,label = 'RF Classifier')\n",
    "plt.xlabel('False positive rate')\n",
    "plt.ylabel('True positive rate')\n",
    "plt.title('RF CLASSIFIER')\n",
    "plt.show()"
   ]
  },
  {
   "cell_type": "code",
   "execution_count": 104,
   "id": "6b30a5ee",
   "metadata": {},
   "outputs": [
    {
     "data": {
      "text/plain": [
       "<153186x10000 sparse matrix of type '<class 'numpy.float64'>'\n",
       "\twith 2945366 stored elements in Compressed Sparse Row format>"
      ]
     },
     "execution_count": 104,
     "metadata": {},
     "output_type": "execute_result"
    }
   ],
   "source": [
    "test_data=tf_vec.fit_transform(test_df['comment_text'])\n",
    "test_data"
   ]
  },
  {
   "cell_type": "code",
   "execution_count": 105,
   "id": "fcd33ace",
   "metadata": {},
   "outputs": [
    {
     "data": {
      "text/plain": [
       "array([1, 0, 0, ..., 1, 1, 0])"
      ]
     },
     "execution_count": 105,
     "metadata": {},
     "output_type": "execute_result"
    }
   ],
   "source": [
    "prediction=RF.predict(test_data)\n",
    "prediction"
   ]
  },
  {
   "cell_type": "code",
   "execution_count": 106,
   "id": "bbbe519a",
   "metadata": {},
   "outputs": [
    {
     "data": {
      "text/plain": [
       "['malig.pkl']"
      ]
     },
     "execution_count": 106,
     "metadata": {},
     "output_type": "execute_result"
    }
   ],
   "source": [
    "import joblib\n",
    "joblib.dump(RF,\"malig.pkl\")"
   ]
  },
  {
   "cell_type": "code",
   "execution_count": null,
   "id": "4aa5ce95",
   "metadata": {},
   "outputs": [],
   "source": []
  }
 ],
 "metadata": {
  "kernelspec": {
   "display_name": "Python 3 (ipykernel)",
   "language": "python",
   "name": "python3"
  },
  "language_info": {
   "codemirror_mode": {
    "name": "ipython",
    "version": 3
   },
   "file_extension": ".py",
   "mimetype": "text/x-python",
   "name": "python",
   "nbconvert_exporter": "python",
   "pygments_lexer": "ipython3",
   "version": "3.9.7"
  }
 },
 "nbformat": 4,
 "nbformat_minor": 5
}
